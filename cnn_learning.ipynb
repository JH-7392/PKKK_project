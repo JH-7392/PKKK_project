{
  "nbformat": 4,
  "nbformat_minor": 0,
  "metadata": {
    "colab": {
      "name": "cnn_4.ipynb",
      "provenance": [],
      "collapsed_sections": []
    },
    "kernelspec": {
      "display_name": "Python 3",
      "language": "python",
      "name": "python3"
    },
    "language_info": {
      "codemirror_mode": {
        "name": "ipython",
        "version": 3
      },
      "file_extension": ".py",
      "mimetype": "text/x-python",
      "name": "python",
      "nbconvert_exporter": "python",
      "pygments_lexer": "ipython3",
      "version": "3.8.3"
    }
  },
  "cells": [
    {
      "cell_type": "markdown",
      "metadata": {
        "colab_type": "text",
        "id": "UJbg8zdkqsdh"
      },
      "source": [
        "## 프로그램 실행 준비 단계입니다\n",
        "- 라이브러리 불러오기, 변수 및 함수 선언으로 구성돼 있습니다\n",
        "- 한번 실행하면 노트북이 켜져 있는 한 이 부분은 반복해서 실행할 필요가 없습니다\n",
        "- 사진은 이 노트북 파일이 존재하는 경로 아래 raw/ 폴더에 종류별로 넣어주세요."
      ]
    },
    {
      "cell_type": "code",
      "metadata": {
        "colab_type": "code",
        "id": "GzjaJ_PgkZ4S",
        "colab": {}
      },
      "source": [
        "# drive.mount('/content/drive/', force_remount=True)"
      ],
      "execution_count": null,
      "outputs": []
    },
    {
      "cell_type": "code",
      "metadata": {
        "id": "pNH4csUKTvHl",
        "colab_type": "code",
        "colab": {}
      },
      "source": [
        ""
      ],
      "execution_count": null,
      "outputs": []
    },
    {
      "cell_type": "code",
      "metadata": {
        "colab_type": "code",
        "id": "-KPKzrqXYqaN",
        "colab": {}
      },
      "source": [
        "#tensorflow cpu 버전 업그레이드 필요시만 사용하세요.\n",
        "# %pip install --upgrade tensorflow-cpu\n",
        "# %pip install --upgrade tensorflow-gpu\n",
        "# %pip install --upgrade tensorflow\n",
        "# %pip install -q pyyaml h5py  # Required to save models in HDF5 format"
      ],
      "execution_count": null,
      "outputs": []
    },
    {
      "cell_type": "code",
      "metadata": {
        "colab_type": "code",
        "id": "H76don28rN4_",
        "colab": {}
      },
      "source": [
        "# 아래 두 모듈은 로컬에서는 필요 없음\n",
        "# from google.colab import drive  # access files in the gdrive\n",
        "# from google.colab.patches import cv2_imshow\n",
        "\n",
        "import os  # for treating files\n",
        "import re  # for natural sort and test image moving\n",
        "import shutil # recursively remove directories\n",
        "import time # measure deep-learning time\n",
        "import pathlib\n",
        "import numpy as np\n",
        "\n",
        "# CNN model\n",
        "import tensorflow as tf\n",
        "from tensorflow import keras\n",
        "from tensorflow.keras import layers\n",
        "from tensorflow.keras.models import Sequential, Model\n",
        "from tensorflow.keras import backend\n",
        "\n",
        "# img preprocess\n",
        "import cv2\n",
        "\n",
        "# augmentation of the raw train sets - not used any more\n",
        "from keras.preprocessing.image import ImageDataGenerator, array_to_img, img_to_array\n",
        "# from keras.preprocessing.image import load_img\n",
        "\n",
        "# InceptionV3 model\n",
        "from tensorflow.keras.applications.inception_v3 import InceptionV3\n",
        "\n",
        "\n",
        "# InceptionResNetV2 model\n",
        "from tensorflow.keras.preprocessing import image\n",
        "from tensorflow.keras.applications.resnet50 import preprocess_input, decode_predictions\n",
        "\n",
        "# Matplotlib\n",
        "import matplotlib.pyplot as plt"
      ],
      "execution_count": 2,
      "outputs": []
    },
    {
      "cell_type": "code",
      "metadata": {
        "colab_type": "code",
        "id": "Cx5XqG6ffxAX",
        "colab": {}
      },
      "source": [
        "# CNN 모델 학습 부분이 실패할 경우 오류를 보고 이 셀을 실행할지 결정(Colab 상에서 실행할 경우 필요 없습니다)\n",
        "import sys\n",
        "from PIL import Image"
      ],
      "execution_count": null,
      "outputs": []
    },
    {
      "cell_type": "code",
      "metadata": {
        "colab_type": "code",
        "id": "O2WWNXc966cv",
        "colab": {}
      },
      "source": [
        "word = {'' : 0, 'da' : 1, 'sa' : 2, 'aa' : 3, 'ka' : 4}"
      ],
      "execution_count": null,
      "outputs": []
    },
    {
      "cell_type": "code",
      "metadata": {
        "colab_type": "code",
        "id": "jVxjNPFFmY0v",
        "colab": {
          "base_uri": "https://localhost:8080/",
          "height": 236
        },
        "outputId": "70d975a8-d55c-4527-82b1-34eb366270b5"
      },
      "source": [
        "# Databox: 프로그램 내에서 쓰일 변수 모음입니다. \n",
        "dir_raw      = pathlib.Path(\"./raw\")   # 원본 이미지 경로\n",
        "dir_backup   = pathlib.Path(\"./backup\") # 백업 이미지 경로\n",
        "dir_datasets = pathlib.Path(\"./train\")  # 모델 학습 기초가 될 경로\n",
        "dir_test     = pathlib.Path(\"./test\")\n",
        "\n",
        "class_list = os.listdir(dir_raw) # ['apple', 'orange', ...]\n",
        "\n",
        "\n",
        "# 아래 변수들은 실제 쓰이는 셀에서 사용자의 입력을 받도록 옮겼습니다. \n",
        "# split_percent  # 만약 값이 0.3이면 testset의 비율을 3할로 조정합니다\n",
        "# size_raw  # datasets/raw  내 각 항목의 이미지 개수\n",
        "# size_test # datasets/test 내 각 과일의 이미지 개수(나중에 너무 크면 조정을 위해 남김)\n",
        "# num_aug_per_img  # 한 이미지당 증폭 이미지가 몇 개 나오는지 설정"
      ],
      "execution_count": 3,
      "outputs": [
        {
          "output_type": "error",
          "ename": "FileNotFoundError",
          "evalue": "ignored",
          "traceback": [
            "\u001b[0;31m---------------------------------------------------------------------------\u001b[0m",
            "\u001b[0;31mFileNotFoundError\u001b[0m                         Traceback (most recent call last)",
            "\u001b[0;32m<ipython-input-3-f057c6a1278a>\u001b[0m in \u001b[0;36m<module>\u001b[0;34m()\u001b[0m\n\u001b[1;32m      5\u001b[0m \u001b[0mdir_test\u001b[0m     \u001b[0;34m=\u001b[0m \u001b[0mpathlib\u001b[0m\u001b[0;34m.\u001b[0m\u001b[0mPath\u001b[0m\u001b[0;34m(\u001b[0m\u001b[0;34m\"./test\"\u001b[0m\u001b[0;34m)\u001b[0m\u001b[0;34m\u001b[0m\u001b[0;34m\u001b[0m\u001b[0m\n\u001b[1;32m      6\u001b[0m \u001b[0;34m\u001b[0m\u001b[0m\n\u001b[0;32m----> 7\u001b[0;31m \u001b[0mclass_list\u001b[0m \u001b[0;34m=\u001b[0m \u001b[0mos\u001b[0m\u001b[0;34m.\u001b[0m\u001b[0mlistdir\u001b[0m\u001b[0;34m(\u001b[0m\u001b[0mdir_raw\u001b[0m\u001b[0;34m)\u001b[0m \u001b[0;31m# ['apple', 'orange', ...]\u001b[0m\u001b[0;34m\u001b[0m\u001b[0;34m\u001b[0m\u001b[0m\n\u001b[0m\u001b[1;32m      8\u001b[0m \u001b[0;34m\u001b[0m\u001b[0m\n\u001b[1;32m      9\u001b[0m \u001b[0;34m\u001b[0m\u001b[0m\n",
            "\u001b[0;31mFileNotFoundError\u001b[0m: [Errno 2] No such file or directory: 'raw'"
          ]
        }
      ]
    },
    {
      "cell_type": "code",
      "metadata": {
        "colab_type": "code",
        "id": "5423RvhHqYIP",
        "colab": {}
      },
      "source": [
        "# Toolbox: 프로그램 내 함수 모음\n",
        "def sort_nicely(l):\n",
        "  \"\"\" 요소이름을 오름차순 정렬한다. 왜 쓰는지는 아래 이유가 있다: \n",
        "      expected: l1, l2, l3, ...\n",
        "      result of sorted(l): l1, l10, l11, ..., l2, l20, ... \"\"\"\n",
        "  convert = lambda text: int(text) if text.isdigit() else text\n",
        "  alphanum_key = lambda key: [convert(c) for c in re.split('([0-9]+)', key)]\n",
        "  \n",
        "  l.sort( key=alphanum_key )\n",
        "\n",
        "\n",
        "def count_fruit_images(fruit_path):\n",
        "  \"\"\" 과일 폴더들이 들어있는 경로(dir_raw)를 넣으면 \n",
        "      각 폴더에 몇장의 이미지가 있는지 알려준다 \"\"\"\n",
        "  fruit_list = os.listdir(fruit_path)\n",
        "  paths_fruit = [os.path.join(fruit_path, fruit) for fruit in fruit_list]\n",
        "\n",
        "  num_each_fruit = zip(fruit_list, [len(os.listdir(path)) for path in paths_fruit])\n",
        "  for f, n in num_each_fruit:\n",
        "    print('{1} images in {0}'.format(f, n))\n",
        "  \n",
        "  return [len(os.listdir(path)) for path in paths_fruit]\n",
        "\n",
        "\n",
        "def cut_images_bysize(size, dir):\n",
        "  \"\"\" 인자로 주어진 폴더 내 파일들을 정해진 개수만 남기고 제거\n",
        "      남기는 기준은 오름차순으로 첫번째부터 size번째 파일까지 \"\"\"\n",
        "  filelist = os.listdir(dir)\n",
        "  sort_nicely(filelist)\n",
        "  for img in filelist[size:len(filelist)]:\n",
        "    img_remove = os.path.join(dir, img)\n",
        "    os.remove(img_remove)\n",
        "    \n",
        "  print(\"images in {0} removed\".format(dir))\n",
        "\n",
        "\n",
        "def extract_fruit_name(path):\n",
        "  \"\"\" 파일의 완전한 경로든, 파일명만 있든 인자에서 과일명을 찾아낸다 \"\"\"\n",
        "  filename = os.path.basename(path)\n",
        "  sep_bar = filename.rfind(\"-\")\n",
        "  return filename[0: sep_bar]\n",
        "\n",
        "\n",
        "def move_images(ratio, src, dest):\n",
        "  \"\"\" src 내에서 ratio만큼의 이미지들을 한번에 dest로 옮긴다\n",
        "      updated: move images even if the 'dest' does not exist.\n",
        "      if ratio >= 1, interpret 'ratio' as number of images \"\"\"\n",
        "  list_img = os.listdir(src)\n",
        "  sort_nicely(list_img)\n",
        "\n",
        "  if ratio <= 1:\n",
        "    split_index = int((1 - ratio) * len(list_img))\n",
        "  else:\n",
        "    split_index = len(list_img) - ratio\n",
        "  split_index = int(split_index)\n",
        "\n",
        "  if not os.path.isdir(dest):\n",
        "    print(\"Path {0} created\".format(dest))\n",
        "    os.makedirs(dest)\n",
        "  for img in list_img[split_index:len(list_img)]:\n",
        "      os.rename(os.path.join(src, img), os.path.join(dest, img))\n",
        "\n",
        "\n",
        "def change_image_name(aftername, filepath):\n",
        "  \"\"\" <filepath>안에 들어있는 파일들의 이름을 <aftername>-<number>형식으로 바꾼다.\n",
        "      원래 확장자는 유지되며, 번호는 임의대로 매겨진다. \n",
        "      배경 있는 이미지를 test로 넣고 학습하는 데 쓰였다 \"\"\"\n",
        "  \n",
        "  file_list = os.listdir(filepath)\n",
        "\n",
        "  for i, f in enumerate(file_list):\n",
        "    beforename, ext = os.path.splitext(f)\n",
        "    src =  os.path.join(filepath, \"{0}{1}\".format(beforename, ext))\n",
        "    dest = os.path.join(filepath, \"{0}-{1}{2}\".format(aftername, i, ext))\n",
        "\n",
        "    os.rename(src, dest)\n",
        "  print(\"names of image in dir {0} has all changed.\".format(aftername))\n",
        "\n",
        "\n",
        "def plt_show_loss(history):\n",
        "  \"\"\" 모델의 훈련, 검증 결과의 loss를 보여준다 \"\"\"\n",
        "\n",
        "  plt.plot(history.history['loss'])\n",
        "  plt.plot(history.history['val_loss'])\n",
        "  plt.title('Model_Loss')\n",
        "  plt.ylabel('Loss')\n",
        "  plt.xlabel('Epoch')\n",
        "  plt.legend(['Train','Test'], loc=0)\n",
        "\n",
        "\n",
        "def plt_show_acc(history):\n",
        "  \"\"\" 모델의 훈련, 검증 결과의 accuracy를 보여준다 \"\"\"\n",
        "  \n",
        "  plt.plot(history.history['accuracy'])\n",
        "  plt.plot(history.history['val_accuracy'])\n",
        "  plt.title('Model_accuracy')\n",
        "  plt.ylabel('Accuracy')\n",
        "  plt.xlabel('Epoch')\n",
        "  plt.legend(['Train','Test'], loc=0)\n",
        "\n",
        "\n",
        "def input_with_default(default_val, prompt_msg):\n",
        "  \"\"\" get integer input from user, but return default value \n",
        "      if fail to get any value \"\"\"\n",
        "\n",
        "  val = input(prompt_msg)\n",
        "  if len(val) == 0:\n",
        "    val = default_val\n",
        "  else:\n",
        "    val = float(val)\n",
        "  \n",
        "  return val"
      ],
      "execution_count": null,
      "outputs": []
    },
    {
      "cell_type": "code",
      "metadata": {
        "id": "4msC3dKWDMEo",
        "colab_type": "code",
        "colab": {}
      },
      "source": [
        "import os\n",
        "import cv2\n",
        "import pathlib"
      ],
      "execution_count": null,
      "outputs": []
    },
    {
      "cell_type": "code",
      "metadata": {
        "id": "TgCz6_x7DMEv",
        "colab_type": "code",
        "colab": {}
      },
      "source": [
        "# # Make broken images compatible\n",
        "\n",
        "# # 돌아댕기면서 cv2.imread(img_path) -> cv2.imwrite(filename, image)\n",
        "# for category in os.listdir(pathlib.Path(dir_raw)):\n",
        "#     for idx, img in enumerate(os.listdir(os.path.join(dir_raw, category))):\n",
        "#         img_path = os.path.join(dir_raw, category, img)\n",
        "\n",
        "#         # _, ext = os.path.splitext(img_path)      \n",
        "#         # os.rename(img_path, os.path.join(dir_raw, category, \"{}-{}{}\".format(category, idx+10000, ext)))\n",
        "        \n",
        "#         img_obj = cv2.imread(img_path)\n",
        "#         try:\n",
        "#             cv2.imwrite(os.path.join(dir_raw, category, img), img_obj)\n",
        "#         except Exception:\n",
        "#             print(img_path)\n",
        "#         finally:\n",
        "#             continue"
      ],
      "execution_count": null,
      "outputs": []
    },
    {
      "cell_type": "markdown",
      "metadata": {
        "colab_type": "text",
        "id": "45SfdJm4iiiR"
      },
      "source": [
        "## 본격적인 실험 시작 부분입니다"
      ]
    },
    {
      "cell_type": "code",
      "metadata": {
        "colab_type": "code",
        "id": "KMOR2YPXd7WQ",
        "tags": [],
        "colab": {
          "base_uri": "https://localhost:8080/",
          "height": 191
        },
        "outputId": "bb070058-904f-4684-e651-be5f88c2b22b"
      },
      "source": [
        "# 현재 원본 이미지가 몇 장인지 확인하세요\n",
        "count_fruit_images(dir_raw)"
      ],
      "execution_count": null,
      "outputs": [
        {
          "output_type": "stream",
          "text": [
            "256 images in almond\n",
            "200 images in apple\n",
            "200 images in broccoli\n",
            "200 images in carrot\n",
            "200 images in grape\n",
            "226 images in mandarin\n",
            "200 images in melon\n",
            "200 images in onion\n",
            "200 images in welshOnion\n"
          ],
          "name": "stdout"
        },
        {
          "output_type": "execute_result",
          "data": {
            "text/plain": [
              "[256, 200, 200, 200, 200, 226, 200, 200, 200]"
            ]
          },
          "metadata": {
            "tags": []
          },
          "execution_count": 10
        }
      ]
    },
    {
      "cell_type": "code",
      "metadata": {
        "colab_type": "code",
        "id": "w5Yr5vNceAtP",
        "tags": [],
        "colab": {
          "base_uri": "https://localhost:8080/",
          "height": 208
        },
        "outputId": "473dd260-d215-46e4-96ce-76e361f2c4cf"
      },
      "source": [
        "# 실험 속도를 위해 정해진 개수(size_raw)만 남기고 클래스별 raw 데이터를 backup 폴더로 치워버립니다\n",
        "# 남기는 이미지들은 파일명 오름차순으로 1~size_raw입니다.\n",
        "\n",
        "default_size = 20  # 초기값입니다. 입력 시 엔터만 누르면 이 값이 들어값니다. 원하시면 조정하세요  # 200입력\n",
        "size_moved = input_with_default(default_size, \n",
        "  \"raw 폴더에 클래스별 남길 이미지의 장 수를 입력하세요(디폴트: {0}): \".format(default_size))\n",
        "\n",
        "for c in os.listdir(dir_raw):\n",
        "  src_path  = os.path.join(dir_raw, c)\n",
        "  dest_path = os.path.join(dir_backup, c)\n",
        "\n",
        "  size_raw = len(os.listdir(src_path)) - size_moved\n",
        "  move_images(size_raw, src_path, dest_path)\n",
        "\n",
        "print('\\nAll images has moved to backup folder.')"
      ],
      "execution_count": null,
      "outputs": [
        {
          "output_type": "stream",
          "text": [
            "raw 폴더에 클래스별 남길 이미지의 장 수를 입력하세요(디폴트: 20): 200\n",
            "Path backup\\almond created\n",
            "Path backup\\apple created\n",
            "Path backup\\broccoli created\n",
            "Path backup\\carrot created\n",
            "Path backup\\grape created\n",
            "Path backup\\mandarin created\n",
            "Path backup\\melon created\n",
            "Path backup\\onion created\n",
            "Path backup\\welshOnion created\n",
            "\n",
            "All images has moved to backup folder.\n"
          ],
          "name": "stdout"
        }
      ]
    },
    {
      "cell_type": "code",
      "metadata": {
        "colab_type": "code",
        "id": "sctCJZexqseG",
        "tags": [],
        "colab": {},
        "outputId": "a75ed5be-e0ab-4289-e326-9206c413dc16"
      },
      "source": [
        "# raw 폴더 내 이미지들이 제대로 백업됐는지 확인해 보세요\n",
        "count_fruit_images(dir_backup)"
      ],
      "execution_count": null,
      "outputs": [
        {
          "output_type": "stream",
          "text": [
            "56 images in almond\n",
            "0 images in apple\n",
            "0 images in broccoli\n",
            "0 images in carrot\n",
            "0 images in grape\n",
            "26 images in mandarin\n",
            "0 images in melon\n",
            "0 images in onion\n",
            "0 images in welshOnion\n"
          ],
          "name": "stdout"
        },
        {
          "output_type": "execute_result",
          "data": {
            "text/plain": [
              "[56, 0, 0, 0, 0, 26, 0, 0, 0]"
            ]
          },
          "metadata": {
            "tags": []
          },
          "execution_count": 12
        }
      ]
    },
    {
      "cell_type": "code",
      "metadata": {
        "colab_type": "code",
        "id": "AGE6XbSUzser",
        "tags": [],
        "colab": {
          "base_uri": "https://localhost:8080/",
          "height": 52
        },
        "outputId": "e3fb94b4-88f0-4057-d346-e427a70b3944"
      },
      "source": [
        "# 훈련 및 검증을 위한 class 별 폴더들을 생성합니다(이미 생성돼 있다면 무시해도 좋습니다)\n",
        "for c in class_list:\n",
        "  target = os.path.join(dir_datasets, \"class_\" + c)\n",
        "  # 접두사를 붙이는 이유는 tf.keras.preprocessing.image_dataset_from_directory가\n",
        "  # 자동으로 클래스를 인식하기 때문입니다\n",
        "  os.makedirs(target, exist_ok=True)\n",
        "print(\"Directory for datasets has been made.\")\n",
        "\n",
        "# 테스트용 class별 폴더를 생성합니다\n",
        "for c in class_list:\n",
        "  target = os.path.join(dir_test, \"class_\" + c)\n",
        "  # 접두사를 붙이는 이유는 tf.keras.preprocessing.image_dataset_from_directory가\n",
        "  # 자동으로 클래스를 인식하기 때문입니다\n",
        "  os.makedirs(target, exist_ok=True)\n",
        "print(\"Directory for test has been made.\")"
      ],
      "execution_count": null,
      "outputs": [
        {
          "output_type": "stream",
          "text": [
            "Directory for datasets has been made.\n",
            "Directory for test has been made.\n"
          ],
          "name": "stdout"
        }
      ]
    },
    {
      "cell_type": "code",
      "metadata": {
        "colab_type": "code",
        "id": "XyG4Y6BHqseM",
        "pycharm": {
          "name": "#%%\n"
        },
        "colab": {},
        "outputId": "cac4b5f4-4684-4714-db3b-f87e901a5a86"
      },
      "source": [
        "# 테스트로 잡은 이미지들을 test 폴더로 옮깁니다\n",
        "split_percent = input_with_default(.3, \"테스트 이미지 개수나, raw에 대한 비율을 입력하세요(기본값: 0.3)): \")\n",
        "\n",
        "for c in class_list:\n",
        "  image_list = os.path.join(dir_raw, c)\n",
        "  sort_nicely(os.listdir(image_list))\n",
        "\n",
        "  src  = os.path.join(dir_raw,  c)\n",
        "  dest = os.path.join(dir_test, \"class_\" + c)\n",
        "\n",
        "  # 테스트 내 과일별로 빈 폴더만 채우도록 했습니다.\n",
        "  if os.path.isdir(dest) and len(os.listdir(dest)) == 0:\n",
        "    move_images(split_percent, src, dest)\n",
        "    print(\"{0} images for test has moved.\".format(c))\n",
        "  else:\n",
        "    print(\"Moving {0} images for test has canceled because it's not empty.\".format(c))"
      ],
      "execution_count": null,
      "outputs": [
        {
          "output_type": "stream",
          "text": [
            "테스트 이미지 개수나, raw에 대한 비율을 입력하세요(기본값: 0.3)): 0.3\n",
            "almond images for test has moved.\n",
            "apple images for test has moved.\n",
            "broccoli images for test has moved.\n",
            "carrot images for test has moved.\n",
            "grape images for test has moved.\n",
            "mandarin images for test has moved.\n",
            "melon images for test has moved.\n",
            "onion images for test has moved.\n",
            "welshOnion images for test has moved.\n"
          ],
          "name": "stdout"
        }
      ]
    },
    {
      "cell_type": "code",
      "metadata": {
        "colab_type": "code",
        "id": "FzXqAsGNo-x5",
        "tags": [],
        "colab": {
          "base_uri": "https://localhost:8080/",
          "height": 173
        },
        "outputId": "d38deaf8-bf3a-4649-b30a-c9a808283bc8"
      },
      "source": [
        "# datasets로 잡은 이미지들을 datasets 폴더로 옮깁니다\n",
        "for c in class_list:\n",
        "  image_list = os.path.join(dir_raw, c)\n",
        "  sort_nicely(os.listdir(image_list))\n",
        "\n",
        "  src  = os.path.join(dir_raw,  c)\n",
        "  dest = os.path.join(dir_datasets, \"class_\" + c)\n",
        "\n",
        "  # 테스트 내 과일별로 빈 폴더만 채우도록 했습니다.\n",
        "  if os.path.isdir(dest) and len(os.listdir(dest)) == 0:\n",
        "    move_images(1, src, dest)\n",
        "    print(\"{0} images for datasets has moved.\".format(c))\n",
        "  else:\n",
        "    print(\"Moving {0} images for datasets has canceled because it's not empty.\".format(c))\n"
      ],
      "execution_count": 6,
      "outputs": [
        {
          "output_type": "stream",
          "text": [
            "almond images for datasets has moved.\n",
            "apple images for datasets has moved.\n",
            "broccoli images for datasets has moved.\n",
            "carrot images for datasets has moved.\n",
            "grape images for datasets has moved.\n",
            "mandarin images for datasets has moved.\n",
            "melon images for datasets has moved.\n",
            "onion images for datasets has moved.\n",
            "welshOnion images for datasets has moved.\n"
          ],
          "name": "stdout"
        }
      ]
    },
    {
      "cell_type": "code",
      "metadata": {
        "colab_type": "code",
        "id": "abe4jXh3qseU",
        "tags": [],
        "colab": {},
        "outputId": "58084dcb-f1a4-4fb2-df22-79ed635f734e"
      },
      "source": [
        "# 이미지가 test와 datasets로 제대로 옮겨졌는지 확인해 봅시다\n",
        "print('num of images in test directories: ')\n",
        "count_fruit_images(dir_test)\n",
        "\n",
        "print('\\nnum of images in datasets directories: ')\n",
        "count_fruit_images(dir_datasets)"
      ],
      "execution_count": null,
      "outputs": [
        {
          "output_type": "stream",
          "text": [
            "num of images in test directories: \n",
            "60 images in class_almond\n",
            "60 images in class_apple\n",
            "60 images in class_broccoli\n",
            "60 images in class_carrot\n",
            "60 images in class_grape\n",
            "60 images in class_mandarin\n",
            "60 images in class_melon\n",
            "60 images in class_onion\n",
            "60 images in class_welshOnion\n",
            "\n",
            "num of images in datasets directories: \n",
            "140 images in class_almond\n",
            "140 images in class_apple\n",
            "140 images in class_broccoli\n",
            "140 images in class_carrot\n",
            "140 images in class_grape\n",
            "140 images in class_mandarin\n",
            "140 images in class_melon\n",
            "140 images in class_onion\n",
            "140 images in class_welshOnion\n"
          ],
          "name": "stdout"
        },
        {
          "output_type": "execute_result",
          "data": {
            "text/plain": [
              "[140, 140, 140, 140, 140, 140, 140, 140, 140]"
            ]
          },
          "metadata": {
            "tags": []
          },
          "execution_count": 16
        }
      ]
    },
    {
      "cell_type": "markdown",
      "metadata": {
        "colab_type": "text",
        "id": "K40twI0HqseX"
      },
      "source": [
        "## 이미지 분류기의 학습 단계"
      ]
    },
    {
      "cell_type": "code",
      "metadata": {
        "colab_type": "code",
        "id": "8ViSuRf7qseX",
        "pycharm": {
          "name": "#%%\n"
        },
        "colab": {},
        "outputId": "ede6192f-7c63-4b19-c935-5c402824005d"
      },
      "source": [
        "image_size = int(input_with_default(100, \"모델이 이미지를 받아들일 크기(가로==세로)를 입력하세요(기본값은 100): \"))\n",
        "batch_size = int(input_with_default(10, \"배치 사이즈(기본값은 10): \"))  # 임시로 정했습니다"
      ],
      "execution_count": null,
      "outputs": [
        {
          "output_type": "stream",
          "text": [
            "모델이 이미지를 받아들일 크기(가로==세로)를 입력하세요(기본값은 100): 100\n",
            "배치 사이즈(기본값은 10): 10\n"
          ],
          "name": "stdout"
        }
      ]
    },
    {
      "cell_type": "code",
      "metadata": {
        "colab_type": "code",
        "id": "0GeVefqOqsea",
        "pycharm": {
          "name": "#%%\n"
        },
        "colab": {},
        "outputId": "09a4c51f-d81b-4a64-d9d3-35f4bed5d61b"
      },
      "source": [
        "# 이젠 train에서 훈련하고, val으로 검증합니다. 이 둘은 datasets로 통합됐습니다.\n",
        "# test 폴더는 서비스 런칭하면 사용자가 찍어 업로드하는 사진이 됩니다\n",
        "train_ds = tf.keras.preprocessing.image_dataset_from_directory(\n",
        "  dir_datasets,\n",
        "  validation_split=0.2,\n",
        "  subset=\"training\",\n",
        "  seed=123,\n",
        "  color_mode='rgb',\n",
        "  image_size=(image_size, image_size),\n",
        "  batch_size=batch_size)"
      ],
      "execution_count": null,
      "outputs": [
        {
          "output_type": "stream",
          "text": [
            "Found 1260 files belonging to 9 classes.\n",
            "Using 1008 files for training.\n"
          ],
          "name": "stdout"
        }
      ]
    },
    {
      "cell_type": "code",
      "metadata": {
        "colab_type": "code",
        "id": "NLhT56C4qsed",
        "pycharm": {
          "name": "#%%\n"
        },
        "colab": {},
        "outputId": "8faaf612-388d-4a85-e5a4-091170de86b5"
      },
      "source": [
        "val_ds = tf.keras.preprocessing.image_dataset_from_directory(\n",
        "  dir_datasets,\n",
        "  validation_split=0.2,\n",
        "  subset=\"validation\",\n",
        "  seed=123,\n",
        "  color_mode='rgb',\n",
        "  image_size=(image_size, image_size),\n",
        "  batch_size=batch_size)"
      ],
      "execution_count": null,
      "outputs": [
        {
          "output_type": "stream",
          "text": [
            "Found 1260 files belonging to 9 classes.\n",
            "Using 252 files for validation.\n"
          ],
          "name": "stdout"
        }
      ]
    },
    {
      "cell_type": "code",
      "metadata": {
        "colab_type": "code",
        "id": "Ns6_W03Wqsei",
        "pycharm": {
          "name": "#%%\n"
        },
        "colab": {}
      },
      "source": [
        "# 이 부분은 마지막 test에서 판별한 이미지의 labeling에 쓰입니다\n",
        "# 처음 선언하는 class_list는 파일 제어에 쓰입니다. 둘이 분리된 이유는 legacy 이유로 그렇습니다.\n",
        "class_names = train_ds.class_names"
      ],
      "execution_count": null,
      "outputs": []
    },
    {
      "cell_type": "code",
      "metadata": {
        "colab_type": "code",
        "id": "t2gb-wCEqsel",
        "pycharm": {
          "name": "#%%\n"
        },
        "colab": {}
      },
      "source": [
        "# Make broken images compatible\n",
        "\n",
        "# 돌아댕기면서 cv2.imread(img_path) -> cv2.imwrite(filename, image)\n",
        "# for category in os.listdir(pathlib.Path(dir_datasets)):\n",
        "#     for img in os.listdir(os.path.join(dir_datasets, category)):\n",
        "#         img_path = os.path.join(dir_datasets, category, img)\n",
        "#\n",
        "#         img_obj = cv2.imread(img_path)\n",
        "#         try:\n",
        "#             cv2.imwrite(os.path.join(dir_datasets, category[6:], img), img_obj)\n",
        "#         except Exception:\n",
        "#             print(img_path)\n",
        "#         finally:\n",
        "#             continue"
      ],
      "execution_count": null,
      "outputs": []
    },
    {
      "cell_type": "code",
      "metadata": {
        "colab_type": "code",
        "id": "UT9sXZBFqsep",
        "pycharm": {
          "name": "#%%\n"
        },
        "colab": {}
      },
      "source": [
        "# 개수 비교\n",
        "# for category in os.listdir(pathlib.Path(dir_datasets)):\n",
        "#     print(category, end=\": \")\n",
        "#     print(len(os.listdir(os.path.join(pathlib.Path(dir_datasets), category))))"
      ],
      "execution_count": null,
      "outputs": []
    },
    {
      "cell_type": "code",
      "metadata": {
        "colab_type": "code",
        "id": "wYtlmk74qser",
        "pycharm": {
          "name": "#%%\n"
        },
        "colab": {}
      },
      "source": [
        "# for image_batch, labels_batch in train_ds:\n",
        "#   print(image_batch.shape)\n",
        "#   print(labels_batch.shape)\n",
        "#   break\n",
        "# The image_batch is a tensor of the shape (10, 100, 100, 3).\n",
        "# This is a batch of 10 images of shape 100 * 100 * 3\n",
        "# (the last dimension refers to color channels RGB).\n",
        "# The label_batch is a tensor of the shape (10,),\n",
        "# these are corresponding labels to the 10 images."
      ],
      "execution_count": null,
      "outputs": []
    },
    {
      "cell_type": "code",
      "metadata": {
        "colab_type": "code",
        "id": "55fQijVtqseu",
        "pycharm": {
          "name": "#%%\n"
        },
        "colab": {}
      },
      "source": [
        "# 색상값은 [0, 255] 범위입니다. 이를 레이어에 맞게 [0, 1] 범위로 정규화 시킬 필요가 있습니다.\n",
        "normalization_layer = tf.keras.layers.experimental.preprocessing.Rescaling(1./255)"
      ],
      "execution_count": null,
      "outputs": []
    },
    {
      "cell_type": "code",
      "metadata": {
        "colab_type": "code",
        "id": "O8_aMmq7qsew",
        "pycharm": {
          "name": "#%%\n"
        },
        "colab": {},
        "outputId": "8d1d9477-6ce3-4b38-9f5a-e2084bba3fdc"
      },
      "source": [
        "# 픽셀값이 [0, 255]에서 [0, 1]로 정규화 된 것이 보이시죠? 당 셀은 이를 보여주기 위함이고, 학습에서 정규화는 시퀄셜 레이어 안에 있습니다.\n",
        "normalized_ds = train_ds.map(lambda x, y: (normalization_layer(x), y))\n",
        "image_batch, labels_batch = next(iter(normalized_ds))\n",
        "first_image = image_batch[0]\n",
        "# Notice the pixels values are now in `[0,1]`.\n",
        "print(np.min(first_image), np.max(first_image))"
      ],
      "execution_count": null,
      "outputs": [
        {
          "output_type": "stream",
          "text": [
            "0.0 1.0\n"
          ],
          "name": "stdout"
        }
      ]
    },
    {
      "cell_type": "code",
      "metadata": {
        "colab_type": "code",
        "id": "169K_hOyqse0",
        "pycharm": {
          "name": "#%%\n"
        },
        "colab": {}
      },
      "source": [
        "AUTOTUNE = tf.data.experimental.AUTOTUNE\n",
        "\n",
        "train_ds = train_ds.cache().shuffle(1000).prefetch(buffer_size=AUTOTUNE)\n",
        "val_ds = val_ds.cache().prefetch(buffer_size=AUTOTUNE)"
      ],
      "execution_count": null,
      "outputs": []
    },
    {
      "cell_type": "code",
      "metadata": {
        "colab_type": "code",
        "id": "I65qCVI0qse3",
        "pycharm": {
          "name": "#%%\n"
        },
        "colab": {}
      },
      "source": [
        "# 이제 이미지 증폭도 레이어를 쌓아 실현할 수 있습니다!\n",
        "data_augmentation = keras.Sequential(\n",
        "  [\n",
        "      layers.experimental.preprocessing.RandomFlip(\"horizontal_and_vertical\",\n",
        "                                                 input_shape=(image_size,\n",
        "                                                              image_size,\n",
        "                                                              3)),\n",
        "      layers.experimental.preprocessing.RandomRotation(0.2),\n",
        "      layers.experimental.preprocessing.RandomZoom(0.2),\n",
        "      layers.experimental.preprocessing.RandomContrast(0.2),\n",
        "      layers.experimental.preprocessing.RandomTranslation(height_factor=(-0.2, 0.2),\n",
        "                                                          width_factor=(-0.2, 0.2),\n",
        "                                                          fill_mode=\"constant\",\n",
        "                                                          interpolation=\"nearest\"),\n",
        "\n",
        "  ]\n",
        ")"
      ],
      "execution_count": null,
      "outputs": []
    },
    {
      "cell_type": "code",
      "metadata": {
        "colab_type": "code",
        "id": "-1Wts4noqse6",
        "pycharm": {
          "name": "#%%\n"
        },
        "colab": {}
      },
      "source": [
        "num_classes = len(class_list)\n",
        "\n",
        "model = Sequential([\n",
        "  data_augmentation,\n",
        "  layers.experimental.preprocessing.Rescaling(1./255),\n",
        "  # Feature extract\n",
        "  layers.Conv2D(16, 3, padding='same', activation='relu'),\n",
        "  layers.MaxPooling2D(),\n",
        "  layers.Conv2D(32, 3, padding='same', activation='relu'),\n",
        "  layers.MaxPooling2D(),\n",
        "  layers.Conv2D(64, 3, padding='same', activation='relu'),\n",
        "  layers.MaxPooling2D(),\n",
        "  # Classifier\n",
        "  layers.Dense(128, activation='relu'),\n",
        "  layers.Dropout(0.2),\n",
        "  layers.Flatten(),\n",
        "  layers.Dense(128, activation='relu'),\n",
        "  layers.Dense(num_classes)\n",
        "])\n"
      ],
      "execution_count": null,
      "outputs": []
    },
    {
      "cell_type": "code",
      "metadata": {
        "colab_type": "code",
        "id": "RnCV5DOVqse-",
        "pycharm": {
          "name": "#%%\n"
        },
        "colab": {}
      },
      "source": [
        "model.compile(\n",
        "  optimizer='adam',\n",
        "  loss=tf.losses.SparseCategoricalCrossentropy(from_logits=True),\n",
        "  metrics=['accuracy'])"
      ],
      "execution_count": null,
      "outputs": []
    },
    {
      "cell_type": "code",
      "metadata": {
        "colab_type": "code",
        "id": "a_bJLkXUqsfD",
        "pycharm": {
          "name": "#%%\n"
        },
        "colab": {},
        "outputId": "7f9327fe-a37f-46e7-88c5-f84ddf506584"
      },
      "source": [
        "model.summary()"
      ],
      "execution_count": null,
      "outputs": [
        {
          "output_type": "stream",
          "text": [
            "Model: \"sequential_1\"\n",
            "_________________________________________________________________\n",
            "Layer (type)                 Output Shape              Param #   \n",
            "=================================================================\n",
            "sequential (Sequential)      (None, 100, 100, 3)       0         \n",
            "_________________________________________________________________\n",
            "rescaling_1 (Rescaling)      (None, 100, 100, 3)       0         \n",
            "_________________________________________________________________\n",
            "conv2d (Conv2D)              (None, 100, 100, 16)      448       \n",
            "_________________________________________________________________\n",
            "max_pooling2d (MaxPooling2D) (None, 50, 50, 16)        0         \n",
            "_________________________________________________________________\n",
            "conv2d_1 (Conv2D)            (None, 50, 50, 32)        4640      \n",
            "_________________________________________________________________\n",
            "max_pooling2d_1 (MaxPooling2 (None, 25, 25, 32)        0         \n",
            "_________________________________________________________________\n",
            "conv2d_2 (Conv2D)            (None, 25, 25, 64)        18496     \n",
            "_________________________________________________________________\n",
            "max_pooling2d_2 (MaxPooling2 (None, 12, 12, 64)        0         \n",
            "_________________________________________________________________\n",
            "dense (Dense)                (None, 12, 12, 128)       8320      \n",
            "_________________________________________________________________\n",
            "dropout (Dropout)            (None, 12, 12, 128)       0         \n",
            "_________________________________________________________________\n",
            "flatten (Flatten)            (None, 18432)             0         \n",
            "_________________________________________________________________\n",
            "dense_1 (Dense)              (None, 128)               2359424   \n",
            "_________________________________________________________________\n",
            "dense_2 (Dense)              (None, 9)                 1161      \n",
            "=================================================================\n",
            "Total params: 2,392,489\n",
            "Trainable params: 2,392,489\n",
            "Non-trainable params: 0\n",
            "_________________________________________________________________\n"
          ],
          "name": "stdout"
        }
      ]
    },
    {
      "cell_type": "code",
      "metadata": {
        "colab_type": "code",
        "id": "JVRg2ZiTqsfG",
        "pycharm": {
          "name": "#%%\n"
        },
        "colab": {},
        "outputId": "3c3f4d70-a923-4882-ee25-d0d0944dfe7f"
      },
      "source": [
        "epochs = int(input_with_default(30, \"에폭 크기를 결정하세요(기본값: 10): \"))   # 에폭은 25이상으로 올려야 합니다.\n",
        "\n",
        "start = time.time()\n",
        "history = model.fit(\n",
        "  train_ds,\n",
        "  validation_data=val_ds,\n",
        "  epochs=epochs\n",
        ")\n",
        "time_elapsed_learning = time.time() - start\n",
        "print(\"학습에 걸린 시간(단위는 초) :\", time_elapsed_learning)"
      ],
      "execution_count": null,
      "outputs": [
        {
          "output_type": "stream",
          "text": [
            "에폭 크기를 결정하세요(기본값: 10): 55\n",
            "Epoch 1/55\n",
            "101/101 [==============================] - 8s 79ms/step - loss: 1.9866 - accuracy: 0.2054 - val_loss: 1.7326 - val_accuracy: 0.2421\n",
            "Epoch 2/55\n",
            "101/101 [==============================] - 7s 69ms/step - loss: 1.5232 - accuracy: 0.3790 - val_loss: 1.0801 - val_accuracy: 0.6230\n",
            "Epoch 3/55\n",
            "101/101 [==============================] - 7s 68ms/step - loss: 1.1632 - accuracy: 0.5714 - val_loss: 0.8855 - val_accuracy: 0.6349\n",
            "Epoch 4/55\n",
            "101/101 [==============================] - 7s 68ms/step - loss: 0.9970 - accuracy: 0.6349 - val_loss: 0.8085 - val_accuracy: 0.7063\n",
            "Epoch 5/55\n",
            "101/101 [==============================] - 7s 67ms/step - loss: 0.9593 - accuracy: 0.6409 - val_loss: 0.7896 - val_accuracy: 0.7024\n",
            "Epoch 6/55\n",
            "101/101 [==============================] - 7s 67ms/step - loss: 0.9136 - accuracy: 0.6657 - val_loss: 0.7356 - val_accuracy: 0.7381\n",
            "Epoch 7/55\n",
            "101/101 [==============================] - 7s 68ms/step - loss: 0.8669 - accuracy: 0.6915 - val_loss: 0.7985 - val_accuracy: 0.6865\n",
            "Epoch 8/55\n",
            "101/101 [==============================] - 7s 67ms/step - loss: 0.8106 - accuracy: 0.6944 - val_loss: 0.7467 - val_accuracy: 0.7024\n",
            "Epoch 9/55\n",
            "101/101 [==============================] - 7s 67ms/step - loss: 0.8845 - accuracy: 0.6667 - val_loss: 0.8480 - val_accuracy: 0.7063\n",
            "Epoch 10/55\n",
            "101/101 [==============================] - 7s 67ms/step - loss: 0.8140 - accuracy: 0.6984 - val_loss: 0.7276 - val_accuracy: 0.7262\n",
            "Epoch 11/55\n",
            "101/101 [==============================] - 7s 67ms/step - loss: 0.7661 - accuracy: 0.7024 - val_loss: 0.7461 - val_accuracy: 0.7183\n",
            "Epoch 12/55\n",
            "101/101 [==============================] - 7s 68ms/step - loss: 0.7583 - accuracy: 0.7103 - val_loss: 0.7723 - val_accuracy: 0.7143\n",
            "Epoch 13/55\n",
            "101/101 [==============================] - 7s 69ms/step - loss: 0.7225 - accuracy: 0.7440 - val_loss: 0.8234 - val_accuracy: 0.6667\n",
            "Epoch 14/55\n",
            "101/101 [==============================] - 7s 68ms/step - loss: 0.7437 - accuracy: 0.7242 - val_loss: 0.6971 - val_accuracy: 0.7222\n",
            "Epoch 15/55\n",
            "101/101 [==============================] - 7s 68ms/step - loss: 0.7253 - accuracy: 0.7302 - val_loss: 0.6378 - val_accuracy: 0.7460\n",
            "Epoch 16/55\n",
            "101/101 [==============================] - 7s 68ms/step - loss: 0.7183 - accuracy: 0.7460 - val_loss: 0.6102 - val_accuracy: 0.7778\n",
            "Epoch 17/55\n",
            "101/101 [==============================] - 7s 67ms/step - loss: 0.6779 - accuracy: 0.7500 - val_loss: 0.6542 - val_accuracy: 0.7579\n",
            "Epoch 18/55\n",
            "101/101 [==============================] - 7s 67ms/step - loss: 0.6651 - accuracy: 0.7550 - val_loss: 0.6640 - val_accuracy: 0.7500\n",
            "Epoch 19/55\n",
            "101/101 [==============================] - 7s 67ms/step - loss: 0.6484 - accuracy: 0.7520 - val_loss: 0.6810 - val_accuracy: 0.7460\n",
            "Epoch 20/55\n",
            "101/101 [==============================] - 7s 68ms/step - loss: 0.6450 - accuracy: 0.7649 - val_loss: 0.7162 - val_accuracy: 0.7659\n",
            "Epoch 21/55\n",
            "101/101 [==============================] - 7s 67ms/step - loss: 0.6524 - accuracy: 0.7639 - val_loss: 0.7268 - val_accuracy: 0.7500\n",
            "Epoch 22/55\n",
            "101/101 [==============================] - 7s 67ms/step - loss: 0.6245 - accuracy: 0.7440 - val_loss: 0.6272 - val_accuracy: 0.7976\n",
            "Epoch 23/55\n",
            "101/101 [==============================] - 7s 68ms/step - loss: 0.5691 - accuracy: 0.7798 - val_loss: 0.6815 - val_accuracy: 0.7817\n",
            "Epoch 24/55\n",
            "101/101 [==============================] - 7s 67ms/step - loss: 0.6110 - accuracy: 0.7629 - val_loss: 0.7184 - val_accuracy: 0.7659\n",
            "Epoch 25/55\n",
            "101/101 [==============================] - 7s 67ms/step - loss: 0.5985 - accuracy: 0.7758 - val_loss: 0.7222 - val_accuracy: 0.7817\n",
            "Epoch 26/55\n",
            "101/101 [==============================] - 7s 67ms/step - loss: 0.6107 - accuracy: 0.7827 - val_loss: 0.6328 - val_accuracy: 0.7937\n",
            "Epoch 27/55\n",
            "101/101 [==============================] - 7s 67ms/step - loss: 0.5813 - accuracy: 0.7540 - val_loss: 0.6235 - val_accuracy: 0.7619\n",
            "Epoch 28/55\n",
            "101/101 [==============================] - 7s 70ms/step - loss: 0.6022 - accuracy: 0.7659 - val_loss: 0.7655 - val_accuracy: 0.7460\n",
            "Epoch 29/55\n",
            "101/101 [==============================] - 7s 69ms/step - loss: 0.5993 - accuracy: 0.7857 - val_loss: 0.6427 - val_accuracy: 0.7937\n",
            "Epoch 30/55\n",
            "101/101 [==============================] - 7s 71ms/step - loss: 0.5889 - accuracy: 0.7887 - val_loss: 0.5896 - val_accuracy: 0.8135\n",
            "Epoch 31/55\n",
            "101/101 [==============================] - 8s 76ms/step - loss: 0.5401 - accuracy: 0.7966 - val_loss: 0.5982 - val_accuracy: 0.8056\n",
            "Epoch 32/55\n",
            "101/101 [==============================] - 7s 70ms/step - loss: 0.5561 - accuracy: 0.7946 - val_loss: 0.7819 - val_accuracy: 0.7540\n",
            "Epoch 33/55\n",
            "101/101 [==============================] - 7s 68ms/step - loss: 0.5126 - accuracy: 0.8046 - val_loss: 0.6949 - val_accuracy: 0.7579\n",
            "Epoch 34/55\n",
            "101/101 [==============================] - 7s 69ms/step - loss: 0.5760 - accuracy: 0.7778 - val_loss: 0.6520 - val_accuracy: 0.7778\n",
            "Epoch 35/55\n",
            "101/101 [==============================] - 7s 68ms/step - loss: 0.5137 - accuracy: 0.7976 - val_loss: 0.5878 - val_accuracy: 0.7897\n",
            "Epoch 36/55\n",
            "101/101 [==============================] - 7s 68ms/step - loss: 0.5239 - accuracy: 0.8046 - val_loss: 0.8085 - val_accuracy: 0.7698\n",
            "Epoch 37/55\n",
            "101/101 [==============================] - 7s 70ms/step - loss: 0.4878 - accuracy: 0.8065 - val_loss: 0.7194 - val_accuracy: 0.7421\n",
            "Epoch 38/55\n",
            "101/101 [==============================] - 7s 70ms/step - loss: 0.6274 - accuracy: 0.7560 - val_loss: 0.5225 - val_accuracy: 0.7857\n",
            "Epoch 39/55\n",
            "101/101 [==============================] - 7s 67ms/step - loss: 0.4834 - accuracy: 0.8165 - val_loss: 0.6013 - val_accuracy: 0.7817\n",
            "Epoch 40/55\n",
            "101/101 [==============================] - 7s 67ms/step - loss: 0.5392 - accuracy: 0.7907 - val_loss: 0.5990 - val_accuracy: 0.7897\n",
            "Epoch 41/55\n",
            "101/101 [==============================] - 7s 68ms/step - loss: 0.5241 - accuracy: 0.7937 - val_loss: 0.5800 - val_accuracy: 0.7937\n",
            "Epoch 42/55\n",
            "101/101 [==============================] - 7s 68ms/step - loss: 0.5102 - accuracy: 0.8105 - val_loss: 0.6547 - val_accuracy: 0.8056\n",
            "Epoch 43/55\n",
            "101/101 [==============================] - 7s 68ms/step - loss: 0.4931 - accuracy: 0.8194 - val_loss: 0.6120 - val_accuracy: 0.8214\n",
            "Epoch 44/55\n",
            "101/101 [==============================] - 7s 68ms/step - loss: 0.5156 - accuracy: 0.8115 - val_loss: 0.5754 - val_accuracy: 0.7817\n",
            "Epoch 45/55\n",
            "101/101 [==============================] - 7s 69ms/step - loss: 0.4950 - accuracy: 0.8234 - val_loss: 0.6322 - val_accuracy: 0.8056\n",
            "Epoch 46/55\n",
            "101/101 [==============================] - 7s 69ms/step - loss: 0.5265 - accuracy: 0.8075 - val_loss: 0.7076 - val_accuracy: 0.7460\n",
            "Epoch 47/55\n",
            "101/101 [==============================] - 7s 67ms/step - loss: 0.4906 - accuracy: 0.8165 - val_loss: 0.6442 - val_accuracy: 0.8452\n",
            "Epoch 48/55\n",
            "101/101 [==============================] - 7s 70ms/step - loss: 0.4440 - accuracy: 0.8224 - val_loss: 0.6199 - val_accuracy: 0.7738\n",
            "Epoch 49/55\n",
            "101/101 [==============================] - 7s 69ms/step - loss: 0.4605 - accuracy: 0.8313 - val_loss: 0.6830 - val_accuracy: 0.7540\n",
            "Epoch 50/55\n",
            "101/101 [==============================] - 7s 69ms/step - loss: 0.4543 - accuracy: 0.8264 - val_loss: 0.6540 - val_accuracy: 0.7579\n",
            "Epoch 51/55\n",
            "101/101 [==============================] - 7s 68ms/step - loss: 0.4318 - accuracy: 0.8373 - val_loss: 0.6338 - val_accuracy: 0.8056\n",
            "Epoch 52/55\n",
            "101/101 [==============================] - 7s 67ms/step - loss: 0.4134 - accuracy: 0.8274 - val_loss: 0.8249 - val_accuracy: 0.7937\n",
            "Epoch 53/55\n",
            "101/101 [==============================] - 7s 67ms/step - loss: 0.4233 - accuracy: 0.8363 - val_loss: 0.5446 - val_accuracy: 0.8214\n",
            "Epoch 54/55\n",
            "101/101 [==============================] - 7s 68ms/step - loss: 0.4471 - accuracy: 0.8393 - val_loss: 0.5374 - val_accuracy: 0.8175\n",
            "Epoch 55/55\n",
            "101/101 [==============================] - 7s 67ms/step - loss: 0.3992 - accuracy: 0.8304 - val_loss: 0.6078 - val_accuracy: 0.7937\n",
            "학습에 걸린 시간(단위는 초) : 390.07619881629944\n"
          ],
          "name": "stdout"
        }
      ]
    },
    {
      "cell_type": "code",
      "metadata": {
        "colab_type": "code",
        "id": "E8_9zfenqsfJ",
        "pycharm": {
          "name": "#%%\n"
        },
        "colab": {},
        "outputId": "e7265a54-c8fa-4019-c33e-867c6cce6854"
      },
      "source": [
        "acc = history.history['accuracy']\n",
        "val_acc = history.history['val_accuracy']\n",
        "\n",
        "loss=history.history['loss']\n",
        "val_loss=history.history['val_loss']\n",
        "\n",
        "epochs_range = range(epochs)\n",
        "\n",
        "plt.figure(figsize=(8, 8))\n",
        "plt.subplot(1, 2, 1)\n",
        "plt.plot(epochs_range, acc, label='Training Accuracy')\n",
        "plt.plot(epochs_range, val_acc, label='Validation Accuracy')\n",
        "plt.legend(loc='lower right')\n",
        "plt.title('Training and Validation Accuracy')\n",
        "\n",
        "plt.subplot(1, 2, 2)\n",
        "plt.plot(epochs_range, loss, label='Training Loss')\n",
        "plt.plot(epochs_range, val_loss, label='Validation Loss')\n",
        "plt.legend(loc='upper right')\n",
        "plt.title('Training and Validation Loss')\n",
        "plt.show()"
      ],
      "execution_count": null,
      "outputs": [
        {
          "output_type": "display_data",
          "data": {
            "image/png": "[encoded data removed]",
            "text/plain": [
              "<Figure size 576x576 with 2 Axes>"
            ]
          },
          "metadata": {
            "tags": [],
            "needs_background": "light"
          }
        }
      ]
    },
    {
      "cell_type": "markdown",
      "metadata": {
        "colab_type": "text",
        "id": "xX4k94wzqsfM",
        "pycharm": {
          "name": "#%% md\n"
        }
      },
      "source": [
        "## 학습을 했으니, 새로운 데이터(test)로 시험(prediction or test)을 칩니다"
      ]
    },
    {
      "cell_type": "code",
      "metadata": {
        "colab_type": "code",
        "id": "k4qSknR0qsfN",
        "pycharm": {
          "name": "#%%\n"
        },
        "colab": {},
        "outputId": "1a1601ca-569e-47c3-ec2f-06c156dfd6ad"
      },
      "source": [
        "# 테스트 합니다. 바로 아래 줄의 과일 이름을 바꾸면 다른 카테고리 테스트 가능합니다\n",
        "for cat in class_names:\n",
        "    num_total = len(os.listdir(os.path.join(dir_test, cat)))\n",
        "    num_correct = 0\n",
        "\n",
        "    for img in os.listdir(os.path.join(dir_test, cat)):\n",
        "        img_path = os.path.join(dir_test, cat, img)\n",
        "        img = Image.open(img_path)\n",
        "        img = img.resize((image_size, image_size))\n",
        "        img = keras.preprocessing.image.img_to_array(img)\n",
        "        img = tf.expand_dims(img, 0)\n",
        "\n",
        "        predictions = model.predict(img)\n",
        "        score = tf.nn.softmax(predictions[0])\n",
        "        if cat == class_names[np.argmax(score)]:\n",
        "            num_correct = num_correct + 1\n",
        "    print(\"correct:{} of total {}, ratio: {:.2f} in category {}\".format(num_correct, num_total, num_correct/num_total, cat))"
      ],
      "execution_count": null,
      "outputs": [
        {
          "output_type": "stream",
          "text": [
            "correct:58 of total 60, ratio: 0.97 in category class_almond\n",
            "correct:46 of total 60, ratio: 0.77 in category class_apple\n",
            "correct:37 of total 60, ratio: 0.62 in category class_broccoli\n",
            "correct:48 of total 60, ratio: 0.80 in category class_carrot\n",
            "correct:60 of total 60, ratio: 1.00 in category class_grape\n",
            "correct:46 of total 60, ratio: 0.77 in category class_mandarin\n",
            "correct:47 of total 60, ratio: 0.78 in category class_melon\n",
            "correct:37 of total 60, ratio: 0.62 in category class_onion\n",
            "correct:50 of total 60, ratio: 0.83 in category class_welshOnion\n"
          ],
          "name": "stdout"
        }
      ]
    },
    {
      "cell_type": "code",
      "metadata": {
        "colab_type": "code",
        "id": "AT1gVv0wqsfR",
        "pycharm": {
          "name": "#%%\n"
        },
        "colab": {}
      },
      "source": [
        "# 전체 test 이미지에 대한 추론 결과\n",
        "\n",
        "for c in class_list:\n",
        "    img_in_class = pathlib.Path(os.path.join(dir_test, c))\n",
        "    img_list = [Image.open(img) for img in list(img_in_class.glob(\"./*\"))]\n",
        "    # img_list = [img.resize((image_size, image_size)) for img in img_list]\n",
        "    img_array = [keras.preprocessing.image.img_to_array(img) for img in img_list]\n",
        "    img_array = [tf.expand_dims(img, 0) for img in img_array] # Create a batch\n",
        "\n",
        "    predictions = [model.predict(img) for img in img_array]\n",
        "    scores = [tf.nn.softmax(pred[0]) for pred in predictions]\n",
        "\n",
        "    for img, score in zip(list(img_in_class.glob(\"./*\")), scores):\n",
        "        with open('test_result', 'a+') as f:\n",
        "            print(\"{} most likely belongs to {} with a {:.2f} percent confidence.\".format(img.name, class_names[np.argmax(score)], 100 * np.max(score))\n",
        "                  , file=f)\n"
      ],
      "execution_count": null,
      "outputs": []
    },
    {
      "cell_type": "code",
      "metadata": {
        "colab_type": "code",
        "id": "QtKQovk3qsfT",
        "pycharm": {
          "name": "#%%\n"
        },
        "colab": {},
        "outputId": "f93b7d8c-ff5c-476c-f663-3f2660689221"
      },
      "source": [
        "# testset에 대해 (맞춘 이미지 수)/(testset 전체 이미지 수) 를 구해 보여줄 것\n",
        "category_right = {\n",
        "    'almond': 0, 'apple': 0, 'broccoli': 0, 'carrot': 0, 'grape': 0,\n",
        "    'mandarin': 0, 'melon': 0, 'onion': 0, 'welshOnion': 0\n",
        "}\n",
        "num_problem = 0\n",
        "\n",
        "for c in class_list:\n",
        "    img_in_class = pathlib.Path(os.path.join(dir_test, \"class_\" + c))\n",
        "\n",
        "    img_list = [Image.open(img) for img in list(img_in_class.glob(\"./*\"))]\n",
        "    img_list = [img.resize((image_size, image_size)) for img in img_list]\n",
        "    img_array = [keras.preprocessing.image.img_to_array(img) for img in img_list]\n",
        "    img_array = [tf.expand_dims(img, 0) for img in img_array] # Create a batch\n",
        "\n",
        "    predictions = [model.predict(img) for img in img_array]\n",
        "    scores = [tf.nn.softmax(pred[0]) for pred in predictions]\n",
        "\n",
        "    for img, score in zip(list(img_in_class.glob(\"./*\")), scores):\n",
        "        num_problem = num_problem + 1\n",
        "\n",
        "        correct = img.name\n",
        "        print(img.name)\n",
        "        answer  = class_names[np.argmax(score)]\n",
        "        if correct == answer:\n",
        "            category_right[correct] = category_right[correct] + 1"
      ],
      "execution_count": null,
      "outputs": [
        {
          "output_type": "stream",
          "text": [
            "almond-10140.jpg\n",
            "almond-10141.jpg\n",
            "almond-10142.jpg\n",
            "almond-10143.jpg\n",
            "almond-10144.jpg\n",
            "almond-10145.jpg\n",
            "almond-10146.jpg\n",
            "almond-10147.jpg\n",
            "almond-10148.jpg\n",
            "almond-10149.jpg\n",
            "almond-10150.jpg\n",
            "almond-10151.jpg\n",
            "almond-10152.jpg\n",
            "almond-10153.jpg\n",
            "almond-10154.jpg\n",
            "almond-10155.jpg\n",
            "almond-10156.jpg\n",
            "almond-10157.jpg\n",
            "almond-10158.jpg\n",
            "almond-10159.jpg\n",
            "almond-10160.jpg\n",
            "almond-10161.jpg\n",
            "almond-10162.jpg\n",
            "almond-10163.jpg\n",
            "almond-10164.jpg\n",
            "almond-10165.jpg\n",
            "almond-10166.jpg\n",
            "almond-10167.jpg\n",
            "almond-10168.jpg\n",
            "almond-10169.jpg\n",
            "almond-10170.jpg\n",
            "almond-10171.jpg\n",
            "almond-10172.jpg\n",
            "almond-10173.jpg\n",
            "almond-10174.jpg\n",
            "almond-10175.jpg\n",
            "almond-10176.jpg\n",
            "almond-10177.jpg\n",
            "almond-10178.jpg\n",
            "almond-10179.jpg\n",
            "almond-10180.jpg\n",
            "almond-10181.jpg\n",
            "almond-10182.jpg\n",
            "almond-10183.jpg\n",
            "almond-10184.jpg\n",
            "almond-10185.jpg\n",
            "almond-10186.jpg\n",
            "almond-10187.jpg\n",
            "almond-10188.jpg\n",
            "almond-10189.jpg\n",
            "almond-10190.jpg\n",
            "almond-10191.jpg\n",
            "almond-10192.jpg\n",
            "almond-10193.jpg\n",
            "almond-10194.jpg\n",
            "almond-10195.jpg\n",
            "almond-10196.jpg\n",
            "almond-10197.jpg\n",
            "almond-10198.jpg\n",
            "almond-10199.jpg\n",
            "apple-10140.jpg\n",
            "apple-10141.jpg\n",
            "apple-10142.jpg\n",
            "apple-10143.jpg\n",
            "apple-10144.jpg\n",
            "apple-10145.jpg\n",
            "apple-10146.jpg\n",
            "apple-10147.jpg\n",
            "apple-10148.jpg\n",
            "apple-10149.jpg\n",
            "apple-10150.jpg\n",
            "apple-10151.jpg\n",
            "apple-10152.jpg\n",
            "apple-10153.jpg\n",
            "apple-10154.jpg\n",
            "apple-10155.jpg\n",
            "apple-10156.jpg\n",
            "apple-10157.jpg\n",
            "apple-10158.jpg\n",
            "apple-10159.jpg\n",
            "apple-10160.jpg\n",
            "apple-10161.jpg\n",
            "apple-10162.jpg\n",
            "apple-10163.jpg\n",
            "apple-10164.jpg\n",
            "apple-10165.jpg\n",
            "apple-10166.jpg\n",
            "apple-10167.jpg\n",
            "apple-10168.jpg\n",
            "apple-10169.jpg\n",
            "apple-10170.jpg\n",
            "apple-10171.jpg\n",
            "apple-10172.jpg\n",
            "apple-10173.jpg\n",
            "apple-10174.jpg\n",
            "apple-10175.jpg\n",
            "apple-10176.jpg\n",
            "apple-10177.jpg\n",
            "apple-10178.jpg\n",
            "apple-10179.jpg\n",
            "apple-10180.jpg\n",
            "apple-10181.jpg\n",
            "apple-10182.jpg\n",
            "apple-10183.jpg\n",
            "apple-10184.jpg\n",
            "apple-10185.jpg\n",
            "apple-10186.jpg\n",
            "apple-10187.jpg\n",
            "apple-10188.jpg\n",
            "apple-10189.jpg\n",
            "apple-10190.jpg\n",
            "apple-10191.jpg\n",
            "apple-10192.jpg\n",
            "apple-10193.jpg\n",
            "apple-10194.jpg\n",
            "apple-10195.jpg\n",
            "apple-10196.jpg\n",
            "apple-10197.jpg\n",
            "apple-10198.jpg\n",
            "apple-10199.jpg\n",
            "broccoli-10140.jpg\n",
            "broccoli-10141.jpg\n",
            "broccoli-10142.jpg\n",
            "broccoli-10143.jpg\n",
            "broccoli-10144.jpg\n",
            "broccoli-10145.jpg\n",
            "broccoli-10146.jpg\n",
            "broccoli-10147.jpg\n",
            "broccoli-10148.jpg\n",
            "broccoli-10149.jpg\n",
            "broccoli-10150.jpg\n",
            "broccoli-10151.jpg\n",
            "broccoli-10152.jpg\n",
            "broccoli-10153.jpg\n",
            "broccoli-10154.jpg\n",
            "broccoli-10155.jpg\n",
            "broccoli-10156.jpg\n",
            "broccoli-10157.jpg\n",
            "broccoli-10158.jpg\n",
            "broccoli-10159.jpg\n",
            "broccoli-10160.jpg\n",
            "broccoli-10161.jpg\n",
            "broccoli-10162.jpg\n",
            "broccoli-10163.jpg\n",
            "broccoli-10164.jpg\n",
            "broccoli-10165.jpg\n",
            "broccoli-10166.jpg\n",
            "broccoli-10167.jpg\n",
            "broccoli-10168.jpg\n",
            "broccoli-10169.jpg\n",
            "broccoli-10170.jpg\n",
            "broccoli-10171.jpg\n",
            "broccoli-10172.jpg\n",
            "broccoli-10173.jpg\n",
            "broccoli-10174.jpg\n",
            "broccoli-10175.jpg\n",
            "broccoli-10176.jpg\n",
            "broccoli-10177.jpg\n",
            "broccoli-10178.jpg\n",
            "broccoli-10179.jpg\n",
            "broccoli-10180.jpg\n",
            "broccoli-10181.jpg\n",
            "broccoli-10182.jpg\n",
            "broccoli-10183.jpg\n",
            "broccoli-10184.jpg\n",
            "broccoli-10185.jpg\n",
            "broccoli-10186.jpg\n",
            "broccoli-10187.jpg\n",
            "broccoli-10188.jpg\n",
            "broccoli-10189.jpg\n",
            "broccoli-10190.jpg\n",
            "broccoli-10191.jpg\n",
            "broccoli-10192.jpg\n",
            "broccoli-10193.jpg\n",
            "broccoli-10194.jpg\n",
            "broccoli-10195.jpg\n",
            "broccoli-10196.jpg\n",
            "broccoli-10197.jpg\n",
            "broccoli-10198.jpg\n",
            "broccoli-10199.jpg\n",
            "carrot-10140.jpg\n",
            "carrot-10141.jpg\n",
            "carrot-10142.jpg\n",
            "carrot-10143.jpg\n",
            "carrot-10144.jpg\n",
            "carrot-10145.jpg\n",
            "carrot-10146.jpg\n",
            "carrot-10147.jpg\n",
            "carrot-10148.jpg\n",
            "carrot-10149.jpg\n",
            "carrot-10150.jpg\n",
            "carrot-10151.jpg\n",
            "carrot-10152.jpg\n",
            "carrot-10153.jpg\n",
            "carrot-10154.jpg\n",
            "carrot-10155.jpg\n",
            "carrot-10156.jpg\n",
            "carrot-10157.jpg\n",
            "carrot-10158.jpg\n",
            "carrot-10159.jpg\n",
            "carrot-10160.jpg\n",
            "carrot-10161.jpg\n",
            "carrot-10162.jpeg\n",
            "carrot-10163.jpg\n",
            "carrot-10164.png\n",
            "carrot-10165.jpeg\n",
            "carrot-10166.jpg\n",
            "carrot-10167.jpg\n",
            "carrot-10168.png\n",
            "carrot-10169.jpeg\n",
            "carrot-10170.jpg\n",
            "carrot-10171.png\n",
            "carrot-10172.jpeg\n",
            "carrot-10173.jpg\n",
            "carrot-10174.png\n",
            "carrot-10175.jpeg\n",
            "carrot-10176.jpg\n",
            "carrot-10177.png\n",
            "carrot-10178.jpg\n",
            "carrot-10179.jpeg\n",
            "carrot-10180.jpg\n",
            "carrot-10181.jpeg\n",
            "carrot-10182.jpg\n",
            "carrot-10183.jpeg\n",
            "carrot-10184.jpg\n",
            "carrot-10185.jpeg\n",
            "carrot-10186.jpg\n",
            "carrot-10187.JPEG\n",
            "carrot-10188.jpg\n",
            "carrot-10189.jpg\n",
            "carrot-10190.jpeg\n",
            "carrot-10191.jpg\n",
            "carrot-10192.jpeg\n",
            "carrot-10193.jpg\n",
            "carrot-10194.jpeg\n",
            "carrot-10195.jpg\n",
            "carrot-10196.jpeg\n",
            "carrot-10197.jpg\n",
            "carrot-10198.jpeg\n",
            "carrot-10199.jpg\n",
            "grape-10140.jpg\n",
            "grape-10141.jpg\n",
            "grape-10142.jpg\n",
            "grape-10143.jpg\n",
            "grape-10144.jpg\n",
            "grape-10145.jpg\n",
            "grape-10146.jpg\n",
            "grape-10147.jpg\n",
            "grape-10148.jpg\n",
            "grape-10149.jpg\n",
            "grape-10150.jpg\n",
            "grape-10151.jpg\n",
            "grape-10152.jpg\n",
            "grape-10153.jpg\n",
            "grape-10154.jpg\n",
            "grape-10155.jpg\n",
            "grape-10156.jpg\n",
            "grape-10157.jpg\n",
            "grape-10158.jpg\n",
            "grape-10159.jpg\n",
            "grape-10160.jpg\n",
            "grape-10161.jpg\n",
            "grape-10162.jpg\n",
            "grape-10163.jpg\n",
            "grape-10164.jpg\n",
            "grape-10165.jpg\n",
            "grape-10166.jpg\n",
            "grape-10167.jpg\n",
            "grape-10168.jpg\n",
            "grape-10169.jpg\n",
            "grape-10170.jpg\n",
            "grape-10171.jpg\n",
            "grape-10172.jpg\n",
            "grape-10173.jpg\n",
            "grape-10174.jpg\n",
            "grape-10175.jpg\n",
            "grape-10176.jpg\n",
            "grape-10177.jpg\n",
            "grape-10178.jpg\n",
            "grape-10179.jpg\n",
            "grape-10180.jpg\n",
            "grape-10181.jpg\n",
            "grape-10182.jpg\n",
            "grape-10183.jpg\n",
            "grape-10184.jpg\n",
            "grape-10185.jpg\n",
            "grape-10186.jpg\n",
            "grape-10187.jpg\n",
            "grape-10188.jpg\n",
            "grape-10189.jpg\n",
            "grape-10190.jpg\n",
            "grape-10191.jpg\n",
            "grape-10192.jpg\n",
            "grape-10193.jpg\n",
            "grape-10194.jpg\n",
            "grape-10195.jpg\n",
            "grape-10196.jpg\n",
            "grape-10197.jpg\n",
            "grape-10198.jpg\n",
            "grape-10199.jpg\n",
            "mandarin-10140.jpg\n",
            "mandarin-10141.jpg\n",
            "mandarin-10142.jpg\n",
            "mandarin-10143.jpg\n",
            "mandarin-10144.jpg\n",
            "mandarin-10145.jpg\n",
            "mandarin-10146.jpg\n",
            "mandarin-10147.jpg\n",
            "mandarin-10148.jpg\n",
            "mandarin-10149.jpg\n",
            "mandarin-10150.jpg\n",
            "mandarin-10151.jpg\n",
            "mandarin-10152.jpg\n",
            "mandarin-10153.jpg\n",
            "mandarin-10154.jpg\n",
            "mandarin-10155.jpg\n",
            "mandarin-10156.jpg\n",
            "mandarin-10157.jpg\n",
            "mandarin-10158.jpg\n",
            "mandarin-10159.jpg\n",
            "mandarin-10160.jpg\n",
            "mandarin-10161.jpg\n",
            "mandarin-10162.jpg\n",
            "mandarin-10163.jpg\n",
            "mandarin-10164.jpg\n",
            "mandarin-10165.jpg\n",
            "mandarin-10166.jpg\n",
            "mandarin-10167.jpg\n",
            "mandarin-10168.jpg\n",
            "mandarin-10169.jpg\n",
            "mandarin-10170.jpg\n",
            "mandarin-10171.jpg\n",
            "mandarin-10172.jpg\n",
            "mandarin-10173.jpg\n",
            "mandarin-10174.jpg\n",
            "mandarin-10175.jpg\n",
            "mandarin-10176.jpg\n",
            "mandarin-10177.jpg\n",
            "mandarin-10178.jpg\n",
            "mandarin-10179.jpg\n",
            "mandarin-10180.jpg\n",
            "mandarin-10181.jpg\n",
            "mandarin-10182.jpg\n",
            "mandarin-10183.jpg\n",
            "mandarin-10184.jpg\n",
            "mandarin-10185.jpg\n",
            "mandarin-10186.jpg\n",
            "mandarin-10187.jpg\n",
            "mandarin-10188.jpg\n",
            "mandarin-10189.jpg\n",
            "mandarin-10190.jpg\n",
            "mandarin-10191.jpg\n",
            "mandarin-10192.jpg\n",
            "mandarin-10193.jpg\n",
            "mandarin-10194.jpg\n",
            "mandarin-10195.jpg\n",
            "mandarin-10196.jpg\n",
            "mandarin-10197.jpg\n",
            "mandarin-10198.jpg\n",
            "mandarin-10199.jpg\n",
            "melon-10140.jpg\n",
            "melon-10141.jpg\n",
            "melon-10142.jpg\n",
            "melon-10143.jpg\n",
            "melon-10144.jpg\n",
            "melon-10145.jpg\n",
            "melon-10146.jpg\n",
            "melon-10147.jpg\n",
            "melon-10148.jpg\n",
            "melon-10149.jpg\n",
            "melon-10150.jpg\n",
            "melon-10151.jpg\n",
            "melon-10152.jpg\n",
            "melon-10153.jpg\n",
            "melon-10154.jpg\n",
            "melon-10155.jpg\n",
            "melon-10156.jpg\n",
            "melon-10157.jpg\n",
            "melon-10158.jpg\n",
            "melon-10159.jpg\n",
            "melon-10160.jpg\n",
            "melon-10161.jpg\n",
            "melon-10162.jpg\n",
            "melon-10163.jpg\n",
            "melon-10164.jpg\n",
            "melon-10165.jpg\n",
            "melon-10166.jpg\n",
            "melon-10167.jpg\n",
            "melon-10168.jpg\n",
            "melon-10169.jpg\n",
            "melon-10170.jpg\n",
            "melon-10171.jpg\n",
            "melon-10172.jpg\n",
            "melon-10173.jpg\n",
            "melon-10174.jpg\n",
            "melon-10175.jpg\n",
            "melon-10176.jpg\n",
            "melon-10177.jpg\n",
            "melon-10178.jpg\n",
            "melon-10179.jpg\n",
            "melon-10180.jpg\n",
            "melon-10181.jpg\n",
            "melon-10182.jpg\n",
            "melon-10183.jpg\n",
            "melon-10184.jpg\n",
            "melon-10185.jpg\n",
            "melon-10186.jpg\n",
            "melon-10187.jpg\n",
            "melon-10188.jpg\n",
            "melon-10189.jpg\n",
            "melon-10190.jpg\n",
            "melon-10191.jpg\n",
            "melon-10192.jpg\n",
            "melon-10193.jpg\n",
            "melon-10194.jpg\n",
            "melon-10195.jpg\n",
            "melon-10196.jpg\n",
            "melon-10197.jpg\n",
            "melon-10198.jpg\n",
            "melon-10199.jpg\n",
            "onion-10140.jpg\n",
            "onion-10141.jpg\n",
            "onion-10142.jpg\n",
            "onion-10143.jpg\n",
            "onion-10144.jpg\n",
            "onion-10145.jpg\n",
            "onion-10146.jpg\n",
            "onion-10147.jpg\n",
            "onion-10148.jpg\n",
            "onion-10149.jpg\n",
            "onion-10150.jpg\n",
            "onion-10151.jpg\n",
            "onion-10152.jpg\n",
            "onion-10153.jpg\n",
            "onion-10154.jpg\n",
            "onion-10155.jpg\n",
            "onion-10156.jpg\n",
            "onion-10157.jpg\n",
            "onion-10158.jpg\n",
            "onion-10159.jpg\n",
            "onion-10160.jpg\n",
            "onion-10161.jpg\n",
            "onion-10162.jpg\n",
            "onion-10163.jpg\n",
            "onion-10164.jpg\n",
            "onion-10165.jpg\n",
            "onion-10166.jpg\n",
            "onion-10167.jpg\n",
            "onion-10168.jpg\n",
            "onion-10169.jpg\n",
            "onion-10170.jpg\n",
            "onion-10171.jpg\n",
            "onion-10172.jpg\n",
            "onion-10173.jpg\n",
            "onion-10174.jpg\n",
            "onion-10175.jpg\n",
            "onion-10176.jpg\n",
            "onion-10177.jpg\n",
            "onion-10178.jpg\n",
            "onion-10179.jpg\n",
            "onion-10180.jpg\n",
            "onion-10181.jpg\n",
            "onion-10182.jpg\n",
            "onion-10183.jpg\n",
            "onion-10184.jpg\n",
            "onion-10185.jpg\n",
            "onion-10186.jpg\n",
            "onion-10187.jpg\n",
            "onion-10188.jpg\n",
            "onion-10189.jpg\n",
            "onion-10190.jpg\n",
            "onion-10191.jpg\n",
            "onion-10192.jpg\n",
            "onion-10193.jpg\n",
            "onion-10194.jpg\n",
            "onion-10195.jpg\n",
            "onion-10196.jpg\n",
            "onion-10197.jpg\n",
            "onion-10198.jpg\n",
            "onion-10199.jpg\n",
            "welshOnion-10140.jpg\n",
            "welshOnion-10141.jpg\n",
            "welshOnion-10142.jpg\n",
            "welshOnion-10143.jpg\n",
            "welshOnion-10144.jpg\n",
            "welshOnion-10145.jpg\n",
            "welshOnion-10146.jpg\n",
            "welshOnion-10147.jpg\n",
            "welshOnion-10148.jpg\n",
            "welshOnion-10149.jpg\n",
            "welshOnion-10150.jpg\n",
            "welshOnion-10151.jpg\n",
            "welshOnion-10152.jpg\n",
            "welshOnion-10153.jpg\n",
            "welshOnion-10154.jpg\n",
            "welshOnion-10155.jpg\n",
            "welshOnion-10156.jpg\n",
            "welshOnion-10157.jpg\n",
            "welshOnion-10158.jpg\n",
            "welshOnion-10159.jpg\n",
            "welshOnion-10160.jpg\n",
            "welshOnion-10161.jpg\n",
            "welshOnion-10162.jpg\n",
            "welshOnion-10163.jpg\n",
            "welshOnion-10164.jpg\n",
            "welshOnion-10165.jpg\n",
            "welshOnion-10166.jpg\n",
            "welshOnion-10167.jpg\n",
            "welshOnion-10168.jpg\n",
            "welshOnion-10169.jpg\n",
            "welshOnion-10170.jpg\n",
            "welshOnion-10171.jpg\n",
            "welshOnion-10172.jpg\n",
            "welshOnion-10173.jpg\n",
            "welshOnion-10174.jpg\n",
            "welshOnion-10175.jpg\n",
            "welshOnion-10176.jpg\n",
            "welshOnion-10177.jpg\n",
            "welshOnion-10178.jpg\n",
            "welshOnion-10179.jpg\n",
            "welshOnion-10180.jpg\n",
            "welshOnion-10181.jpg\n",
            "welshOnion-10182.jpg\n",
            "welshOnion-10183.jpg\n",
            "welshOnion-10184.jpg\n",
            "welshOnion-10185.jpg\n",
            "welshOnion-10186.jpg\n",
            "welshOnion-10187.jpg\n",
            "welshOnion-10188.jpg\n",
            "welshOnion-10189.jpg\n",
            "welshOnion-10190.jpg\n",
            "welshOnion-10191.jpg\n",
            "welshOnion-10192.jpg\n",
            "welshOnion-10193.jpg\n",
            "welshOnion-10194.jpg\n",
            "welshOnion-10195.jpg\n",
            "welshOnion-10196.jpg\n",
            "welshOnion-10197.jpg\n",
            "welshOnion-10198.jpg\n",
            "welshOnion-10199.jpg\n"
          ],
          "name": "stdout"
        }
      ]
    },
    {
      "cell_type": "code",
      "metadata": {
        "colab_type": "code",
        "id": "7k-NVdJvqsfX",
        "pycharm": {
          "name": "#%%\n"
        },
        "colab": {},
        "outputId": "75a3363c-c57c-4b9f-b748-5216b44365d5"
      },
      "source": [
        "# Save the entire model as a SavedModel.\n",
        "!mkdir -p saved_model\n",
        "model.save('saved_model/cnn_epoch46_batch_32')"
      ],
      "execution_count": null,
      "outputs": [
        {
          "output_type": "stream",
          "text": [
            "WARNING:tensorflow:From C:\\Anaconda3\\lib\\site-packages\\tensorflow\\python\\training\\tracking\\tracking.py:111: Model.state_updates (from tensorflow.python.keras.engine.training) is deprecated and will be removed in a future version.\n",
            "Instructions for updating:\n",
            "This property should not be used in TensorFlow 2.0, as updates are applied automatically.\n",
            "WARNING:tensorflow:From C:\\Anaconda3\\lib\\site-packages\\tensorflow\\python\\training\\tracking\\tracking.py:111: Layer.updates (from tensorflow.python.keras.engine.base_layer) is deprecated and will be removed in a future version.\n",
            "Instructions for updating:\n",
            "This property should not be used in TensorFlow 2.0, as updates are applied automatically.\n",
            "INFO:tensorflow:Assets written to: saved_model/cnn_epoch46_batch_32\\assets\n"
          ],
          "name": "stdout"
        }
      ]
    },
    {
      "cell_type": "code",
      "metadata": {
        "colab_type": "code",
        "id": "g8WCufQiqsfZ",
        "pycharm": {
          "name": "#%%\n"
        },
        "colab": {},
        "outputId": "df5a4a40-64c6-468c-bedb-5128725a502e"
      },
      "source": [
        "new_model = tf.keras.models.load_model('saved_model/my_model')\n",
        "\n",
        "# Check its architecture\n",
        "new_model.summary()"
      ],
      "execution_count": null,
      "outputs": [
        {
          "output_type": "error",
          "ename": "OSError",
          "evalue": "SavedModel file does not exist at: saved_model/my_model/{saved_model.pbtxt|saved_model.pb}",
          "traceback": [
            "\u001b[1;31m---------------------------------------------------------------------------\u001b[0m",
            "\u001b[1;31mOSError\u001b[0m                                   Traceback (most recent call last)",
            "\u001b[1;32m<ipython-input-37-c08953fa7baa>\u001b[0m in \u001b[0;36m<module>\u001b[1;34m\u001b[0m\n\u001b[1;32m----> 1\u001b[1;33m \u001b[0mnew_model\u001b[0m \u001b[1;33m=\u001b[0m \u001b[0mtf\u001b[0m\u001b[1;33m.\u001b[0m\u001b[0mkeras\u001b[0m\u001b[1;33m.\u001b[0m\u001b[0mmodels\u001b[0m\u001b[1;33m.\u001b[0m\u001b[0mload_model\u001b[0m\u001b[1;33m(\u001b[0m\u001b[1;34m'saved_model/my_model'\u001b[0m\u001b[1;33m)\u001b[0m\u001b[1;33m\u001b[0m\u001b[1;33m\u001b[0m\u001b[0m\n\u001b[0m\u001b[0;32m      2\u001b[0m \u001b[1;33m\u001b[0m\u001b[0m\n\u001b[0;32m      3\u001b[0m \u001b[1;31m# Check its architecture\u001b[0m\u001b[1;33m\u001b[0m\u001b[1;33m\u001b[0m\u001b[1;33m\u001b[0m\u001b[0m\n\u001b[0;32m      4\u001b[0m \u001b[0mnew_model\u001b[0m\u001b[1;33m.\u001b[0m\u001b[0msummary\u001b[0m\u001b[1;33m(\u001b[0m\u001b[1;33m)\u001b[0m\u001b[1;33m\u001b[0m\u001b[1;33m\u001b[0m\u001b[0m\n",
            "\u001b[1;32mC:\\Anaconda3\\lib\\site-packages\\tensorflow\\python\\keras\\saving\\save.py\u001b[0m in \u001b[0;36mload_model\u001b[1;34m(filepath, custom_objects, compile, options)\u001b[0m\n\u001b[0;32m    184\u001b[0m     \u001b[0mfilepath\u001b[0m \u001b[1;33m=\u001b[0m \u001b[0mpath_to_string\u001b[0m\u001b[1;33m(\u001b[0m\u001b[0mfilepath\u001b[0m\u001b[1;33m)\u001b[0m\u001b[1;33m\u001b[0m\u001b[1;33m\u001b[0m\u001b[0m\n\u001b[0;32m    185\u001b[0m     \u001b[1;32mif\u001b[0m \u001b[0misinstance\u001b[0m\u001b[1;33m(\u001b[0m\u001b[0mfilepath\u001b[0m\u001b[1;33m,\u001b[0m \u001b[0msix\u001b[0m\u001b[1;33m.\u001b[0m\u001b[0mstring_types\u001b[0m\u001b[1;33m)\u001b[0m\u001b[1;33m:\u001b[0m\u001b[1;33m\u001b[0m\u001b[1;33m\u001b[0m\u001b[0m\n\u001b[1;32m--> 186\u001b[1;33m       \u001b[0mloader_impl\u001b[0m\u001b[1;33m.\u001b[0m\u001b[0mparse_saved_model\u001b[0m\u001b[1;33m(\u001b[0m\u001b[0mfilepath\u001b[0m\u001b[1;33m)\u001b[0m\u001b[1;33m\u001b[0m\u001b[1;33m\u001b[0m\u001b[0m\n\u001b[0m\u001b[0;32m    187\u001b[0m       \u001b[1;32mreturn\u001b[0m \u001b[0msaved_model_load\u001b[0m\u001b[1;33m.\u001b[0m\u001b[0mload\u001b[0m\u001b[1;33m(\u001b[0m\u001b[0mfilepath\u001b[0m\u001b[1;33m,\u001b[0m \u001b[0mcompile\u001b[0m\u001b[1;33m,\u001b[0m \u001b[0moptions\u001b[0m\u001b[1;33m)\u001b[0m\u001b[1;33m\u001b[0m\u001b[1;33m\u001b[0m\u001b[0m\n\u001b[0;32m    188\u001b[0m \u001b[1;33m\u001b[0m\u001b[0m\n",
            "\u001b[1;32mC:\\Anaconda3\\lib\\site-packages\\tensorflow\\python\\saved_model\\loader_impl.py\u001b[0m in \u001b[0;36mparse_saved_model\u001b[1;34m(export_dir)\u001b[0m\n\u001b[0;32m    108\u001b[0m       \u001b[1;32mraise\u001b[0m \u001b[0mIOError\u001b[0m\u001b[1;33m(\u001b[0m\u001b[1;34m\"Cannot parse file %s: %s.\"\u001b[0m \u001b[1;33m%\u001b[0m \u001b[1;33m(\u001b[0m\u001b[0mpath_to_pbtxt\u001b[0m\u001b[1;33m,\u001b[0m \u001b[0mstr\u001b[0m\u001b[1;33m(\u001b[0m\u001b[0me\u001b[0m\u001b[1;33m)\u001b[0m\u001b[1;33m)\u001b[0m\u001b[1;33m)\u001b[0m\u001b[1;33m\u001b[0m\u001b[1;33m\u001b[0m\u001b[0m\n\u001b[0;32m    109\u001b[0m   \u001b[1;32melse\u001b[0m\u001b[1;33m:\u001b[0m\u001b[1;33m\u001b[0m\u001b[1;33m\u001b[0m\u001b[0m\n\u001b[1;32m--> 110\u001b[1;33m     raise IOError(\"SavedModel file does not exist at: %s/{%s|%s}\" %\n\u001b[0m\u001b[0;32m    111\u001b[0m                   (export_dir,\n\u001b[0;32m    112\u001b[0m                    \u001b[0mconstants\u001b[0m\u001b[1;33m.\u001b[0m\u001b[0mSAVED_MODEL_FILENAME_PBTXT\u001b[0m\u001b[1;33m,\u001b[0m\u001b[1;33m\u001b[0m\u001b[1;33m\u001b[0m\u001b[0m\n",
            "\u001b[1;31mOSError\u001b[0m: SavedModel file does not exist at: saved_model/my_model/{saved_model.pbtxt|saved_model.pb}"
          ]
        }
      ]
    },
    {
      "cell_type": "markdown",
      "metadata": {
        "colab_type": "text",
        "id": "nkOuPOcmiYri"
      },
      "source": [
        "### 새로 실험을 시작하려면 아래 두 셀을 실행하시면 됩니다\n"
      ]
    },
    {
      "cell_type": "code",
      "metadata": {
        "colab_type": "code",
        "id": "wrchBvS6qsfb",
        "pycharm": {
          "name": "#%%\n"
        },
        "colab": {},
        "outputId": "8d130948-85c0-468f-df21-a47bc5af46f5"
      },
      "source": [
        "# Evaluate the restored model\n",
        "loss, acc = new_model.evaluate(test_images,  test_labels, verbose=2)\n",
        "print('Restored model, accuracy: {:5.2f}%'.format(100*acc))\n",
        "\n",
        "print(new_model.predict(test_images).shape)\n"
      ],
      "execution_count": null,
      "outputs": [
        {
          "output_type": "error",
          "ename": "NameError",
          "evalue": "name 'new_model' is not defined",
          "traceback": [
            "\u001b[1;31m---------------------------------------------------------------------------\u001b[0m",
            "\u001b[1;31mNameError\u001b[0m                                 Traceback (most recent call last)",
            "\u001b[1;32m<ipython-input-38-92dec2a1b780>\u001b[0m in \u001b[0;36m<module>\u001b[1;34m\u001b[0m\n\u001b[0;32m      1\u001b[0m \u001b[1;31m# Evaluate the restored model\u001b[0m\u001b[1;33m\u001b[0m\u001b[1;33m\u001b[0m\u001b[1;33m\u001b[0m\u001b[0m\n\u001b[1;32m----> 2\u001b[1;33m \u001b[0mloss\u001b[0m\u001b[1;33m,\u001b[0m \u001b[0macc\u001b[0m \u001b[1;33m=\u001b[0m \u001b[0mnew_model\u001b[0m\u001b[1;33m.\u001b[0m\u001b[0mevaluate\u001b[0m\u001b[1;33m(\u001b[0m\u001b[0mtest_images\u001b[0m\u001b[1;33m,\u001b[0m  \u001b[0mtest_labels\u001b[0m\u001b[1;33m,\u001b[0m \u001b[0mverbose\u001b[0m\u001b[1;33m=\u001b[0m\u001b[1;36m2\u001b[0m\u001b[1;33m)\u001b[0m\u001b[1;33m\u001b[0m\u001b[1;33m\u001b[0m\u001b[0m\n\u001b[0m\u001b[0;32m      3\u001b[0m \u001b[0mprint\u001b[0m\u001b[1;33m(\u001b[0m\u001b[1;34m'Restored model, accuracy: {:5.2f}%'\u001b[0m\u001b[1;33m.\u001b[0m\u001b[0mformat\u001b[0m\u001b[1;33m(\u001b[0m\u001b[1;36m100\u001b[0m\u001b[1;33m*\u001b[0m\u001b[0macc\u001b[0m\u001b[1;33m)\u001b[0m\u001b[1;33m)\u001b[0m\u001b[1;33m\u001b[0m\u001b[1;33m\u001b[0m\u001b[0m\n\u001b[0;32m      4\u001b[0m \u001b[1;33m\u001b[0m\u001b[0m\n\u001b[0;32m      5\u001b[0m \u001b[0mprint\u001b[0m\u001b[1;33m(\u001b[0m\u001b[0mnew_model\u001b[0m\u001b[1;33m.\u001b[0m\u001b[0mpredict\u001b[0m\u001b[1;33m(\u001b[0m\u001b[0mtest_images\u001b[0m\u001b[1;33m)\u001b[0m\u001b[1;33m.\u001b[0m\u001b[0mshape\u001b[0m\u001b[1;33m)\u001b[0m\u001b[1;33m\u001b[0m\u001b[1;33m\u001b[0m\u001b[0m\n",
            "\u001b[1;31mNameError\u001b[0m: name 'new_model' is not defined"
          ]
        }
      ]
    },
    {
      "cell_type": "code",
      "metadata": {
        "colab_type": "code",
        "id": "H4zhkuMLeTwB",
        "tags": [],
        "colab": {
          "base_uri": "https://localhost:8080/",
          "height": 358
        },
        "outputId": "046d91c8-ffeb-479f-9f9b-1be2e83b21e4"
      },
      "source": [
        "# 이동시켰던 test용 이미지들을 다시 원래 raw/ 아래 과일별 폴더로 옮깁니다\n",
        "for c in class_list:\n",
        "  src =  os.path.join(dir_test, \"class_\" + c)\n",
        "  dest = os.path.join(dir_raw, c)\n",
        "  move_images(1, src, dest)\n",
        "  print(\"{0} images for test has moved back \" \\\n",
        "        \"to original raw directory.\".format(c))\n",
        "\n",
        "print('\\ntest directory:')\n",
        "count_fruit_images(dir_test)\n",
        "print(\"\")\n",
        "\n",
        "# dataset\n",
        "for c in class_list:\n",
        "  src =  os.path.join(dir_datasets, \"class_\" + c)\n",
        "  dest = os.path.join(dir_raw, c)\n",
        "  move_images(1, src, dest)\n",
        "  print(\"{0} images for datasets has moved back \" \\\n",
        "        \"to original raw directory.\".format(c))\n",
        "\n",
        "print('\\ntest directory:')\n",
        "count_fruit_images(dir_datasets)\n",
        "print(\"\")\n",
        "\n",
        "# 백업용 폴더로 옮겼던 이미지들도 다시 raw로 옮깁니다\n",
        "for c in class_list:\n",
        "  src =  os.path.join(dir_backup, c)\n",
        "  dest = os.path.join(dir_raw, c)\n",
        "  move_images(1, src, dest)\n",
        "  print(\"{0} images for backup has moved back \" \\\n",
        "        \"to original raw directory.\".format(c))\n",
        "  \n",
        "print('\\nbackup directory:')\n",
        "count_fruit_images(dir_backup)\n"
      ],
      "execution_count": null,
      "outputs": [
        {
          "output_type": "stream",
          "text": [
            "almond images for test has moved back to original raw directory.\n",
            "apple images for test has moved back to original raw directory.\n",
            "broccoli images for test has moved back to original raw directory.\n",
            "carrot images for test has moved back to original raw directory.\n",
            "grape images for test has moved back to original raw directory.\n",
            "mandarin images for test has moved back to original raw directory.\n",
            "melon images for test has moved back to original raw directory.\n",
            "onion images for test has moved back to original raw directory.\n",
            "welshOnion images for test has moved back to original raw directory.\n",
            "\n",
            "test directory:\n",
            "0 images in class_almond\n",
            "0 images in class_apple\n",
            "0 images in class_broccoli\n",
            "0 images in class_carrot\n",
            "0 images in class_grape\n",
            "0 images in class_mandarin\n",
            "0 images in class_melon\n",
            "0 images in class_onion\n",
            "0 images in class_welshOnion\n",
            "\n",
            "almond images for datasets has moved back to original raw directory.\n",
            "apple images for datasets has moved back to original raw directory.\n",
            "broccoli images for datasets has moved back to original raw directory.\n",
            "carrot images for datasets has moved back to original raw directory.\n",
            "grape images for datasets has moved back to original raw directory.\n",
            "mandarin images for datasets has moved back to original raw directory.\n",
            "melon images for datasets has moved back to original raw directory.\n",
            "onion images for datasets has moved back to original raw directory.\n",
            "welshOnion images for datasets has moved back to original raw directory.\n",
            "\n",
            "test directory:\n",
            "0 images in class_almond\n",
            "0 images in class_apple\n",
            "0 images in class_broccoli\n",
            "0 images in class_carrot\n",
            "0 images in class_grape\n",
            "0 images in class_mandarin\n",
            "0 images in class_melon\n",
            "0 images in class_onion\n",
            "0 images in class_welshOnion\n",
            "\n",
            "almond images for backup has moved back to original raw directory.\n",
            "apple images for backup has moved back to original raw directory.\n",
            "broccoli images for backup has moved back to original raw directory.\n",
            "carrot images for backup has moved back to original raw directory.\n",
            "grape images for backup has moved back to original raw directory.\n",
            "mandarin images for backup has moved back to original raw directory.\n",
            "melon images for backup has moved back to original raw directory.\n",
            "onion images for backup has moved back to original raw directory.\n",
            "welshOnion images for backup has moved back to original raw directory.\n",
            "\n",
            "backup directory:\n",
            "0 images in almond\n",
            "0 images in apple\n",
            "0 images in broccoli\n",
            "0 images in carrot\n",
            "0 images in grape\n",
            "0 images in mandarin\n",
            "0 images in melon\n",
            "0 images in onion\n",
            "0 images in welshOnion\n"
          ],
          "name": "stdout"
        },
        {
          "output_type": "execute_result",
          "data": {
            "text/plain": [
              "[0, 0, 0, 0, 0, 0, 0, 0, 0]"
            ]
          },
          "metadata": {
            "tags": []
          },
          "execution_count": 39
        }
      ]
    },
    {
      "cell_type": "code",
      "metadata": {
        "colab_type": "code",
        "id": "mdVk_rx0qsfg",
        "pycharm": {
          "name": "#%%\n"
        },
        "scrolled": true,
        "tags": [],
        "colab": {},
        "outputId": "6fef681a-8240-4164-dab0-61d51de0d721"
      },
      "source": [
        "# raw 폴더 안을 확인해서 이미지들이 제대로 돌아왔나 봅시다\n",
        "print('images in backup: ')\n",
        "count_fruit_images(dir_backup)\n",
        "\n",
        "print('\\nimages in test: ')\n",
        "count_fruit_images(dir_test)\n",
        "\n",
        "print('\\nimages in raw: ')\n",
        "count_fruit_images(dir_raw)"
      ],
      "execution_count": null,
      "outputs": [
        {
          "output_type": "stream",
          "text": [
            "images in backup: \n",
            "0 images in almond\n",
            "0 images in apple\n",
            "0 images in broccoli\n",
            "0 images in carrot\n",
            "0 images in grape\n",
            "0 images in mandarin\n",
            "0 images in melon\n",
            "0 images in onion\n",
            "0 images in welshOnion\n",
            "\n",
            "images in test: \n",
            "0 images in class_almond\n",
            "0 images in class_apple\n",
            "0 images in class_broccoli\n",
            "0 images in class_carrot\n",
            "0 images in class_grape\n",
            "0 images in class_mandarin\n",
            "0 images in class_melon\n",
            "0 images in class_onion\n",
            "0 images in class_welshOnion\n",
            "\n",
            "images in raw: \n",
            "256 images in almond\n",
            "200 images in apple\n",
            "200 images in broccoli\n",
            "200 images in carrot\n",
            "200 images in grape\n",
            "226 images in mandarin\n",
            "200 images in melon\n",
            "200 images in onion\n",
            "200 images in welshOnion\n"
          ],
          "name": "stdout"
        },
        {
          "output_type": "execute_result",
          "data": {
            "text/plain": [
              "[256, 200, 200, 200, 200, 226, 200, 200, 200]"
            ]
          },
          "metadata": {
            "tags": []
          },
          "execution_count": 40
        }
      ]
    },
    {
      "cell_type": "code",
      "metadata": {
        "colab_type": "code",
        "id": "sUgrbUbxqsfi",
        "pycharm": {
          "name": "#%%\n"
        },
        "colab": {}
      },
      "source": [
        "# train과 test, 그리고 backup 폴더를 지웁니다\n",
        "shutil.rmtree(dir_test)\n",
        "shutil.rmtree(dir_datasets)\n",
        "shutil.rmtree(dir_backup)"
      ],
      "execution_count": null,
      "outputs": []
    },
    {
      "cell_type": "code",
      "metadata": {
        "colab_type": "code",
        "id": "a7lXEWaRqsfm",
        "colab": {}
      },
      "source": [
        ""
      ],
      "execution_count": null,
      "outputs": []
    },
    {
      "cell_type": "code",
      "metadata": {
        "id": "pF1o5ep8DMH7",
        "colab_type": "code",
        "colab": {}
      },
      "source": [
        ""
      ],
      "execution_count": null,
      "outputs": []
    },
    {
      "cell_type": "code",
      "metadata": {
        "id": "-xXxKhUaDMH-",
        "colab_type": "code",
        "colab": {}
      },
      "source": [
        ""
      ],
      "execution_count": null,
      "outputs": []
    },
    {
      "cell_type": "code",
      "metadata": {
        "id": "SqgEN4gqDMID",
        "colab_type": "code",
        "colab": {}
      },
      "source": [
        ""
      ],
      "execution_count": null,
      "outputs": []
    },
    {
      "cell_type": "code",
      "metadata": {
        "id": "C2D6aHDgDMIF",
        "colab_type": "code",
        "colab": {}
      },
      "source": [
        ""
      ],
      "execution_count": null,
      "outputs": []
    }
  ]
}